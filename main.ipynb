{
 "cells": [
  {
   "cell_type": "markdown",
   "metadata": {},
   "source": [
    "# BUSINESS UNDERSTANDING\n",
    "## Introduction\n",
    "\n",
    "The real estate market is a dynamic and complex field influenced by numerous factors that affect property values.In the market, homeowners and stakeholders often seek ways to maximize property values, whether preparing to sell or enhancing their investments. Accurately predicting house prices is crucial for making informed decisions. This project aims to provide insights on home valuation and how various renovations can increase their estimated value. By leveraging data on homes in King County, we aim to help homeowners make informed decisions regarding their property.\n",
    "\n",
    "## Problem Statement\n",
    "\n",
    "Homeowners and real estate agents often face the challenge of accurately predicting home values and identifying which renovations will yield the highest return on investment. Inaccurate valuations can affect home sales and lead to significant losses for both buyers and sellers. Uninformed renovation decisions can result in unnecessary expenditures without a corresponding increase in property value. For a real estate agency that helps homeowners buy and sell homes, providing accurate home valuations and precise advice on effective renovations is crucial. Traditional methods often fail to capture the complexity and interactions between different factors, leading to less reliable predictions. This project addresses the problem of developing a reliable and accurate predictive model for house prices using linear regression, incorporating a comprehensive set of independent variables to improve prediction accuracy.\n",
    "\n",
    "## Objectives\n",
    "\n",
    "1. **Develop a model that accurately predicts the value of a house based on its features.**\n",
    "   - Investigate the most important features in homes to create an accurate model for estimating home value.\n",
    "   \n",
    "2. **Explore and quantify the relationship between renovations and property value and refine the model based on the results.**\n",
    "   - Determine whether renovations affect home prices. If a relationship exists, quantify it and refine the model to improve accuracy.\n",
    "   \n",
    "3. **Offer tailored recommendations to homeowners based on their property characteristics and market conditions.**\n",
    "   - Provide homeowners with accurate property valuations and advise on whether renovations would be a worthwhile investment if they intend to sell.\n",
    "\n",
    "\n",
    "By analyzing housing data, this project will develop a predictive model to guide homeowners in making strategic renovation investments that enhance property value. This model will also support stakeholders in urban development by providing a reliable tool for estimating housing prices.\n"
   ]
  },
  {
   "cell_type": "markdown",
   "metadata": {},
   "source": [
    "# DATA UNDERSTANDING"
   ]
  },
  {
   "cell_type": "code",
   "execution_count": 327,
   "metadata": {},
   "outputs": [],
   "source": [
    "#imports \n",
    "import pandas as pd\n",
    "import numpy as np\n",
    "import matplotlib.pyplot as plt\n",
    "import seaborn as sns\n",
    "from sklearn.model_selection import train_test_split\n",
    "from sklearn.preprocessing import StandardScaler\n",
    "from sklearn.linear_model import LinearRegression\n",
    "from sklearn.metrics import mean_squared_error, r2_score,mean_absolute_error"
   ]
  },
  {
   "cell_type": "code",
   "execution_count": 328,
   "metadata": {},
   "outputs": [
    {
     "data": {
      "text/html": [
       "<div>\n",
       "<style scoped>\n",
       "    .dataframe tbody tr th:only-of-type {\n",
       "        vertical-align: middle;\n",
       "    }\n",
       "\n",
       "    .dataframe tbody tr th {\n",
       "        vertical-align: top;\n",
       "    }\n",
       "\n",
       "    .dataframe thead th {\n",
       "        text-align: right;\n",
       "    }\n",
       "</style>\n",
       "<table border=\"1\" class=\"dataframe\">\n",
       "  <thead>\n",
       "    <tr style=\"text-align: right;\">\n",
       "      <th></th>\n",
       "      <th>id</th>\n",
       "      <th>date</th>\n",
       "      <th>price</th>\n",
       "      <th>bedrooms</th>\n",
       "      <th>bathrooms</th>\n",
       "      <th>sqft_living</th>\n",
       "      <th>sqft_lot</th>\n",
       "      <th>floors</th>\n",
       "      <th>waterfront</th>\n",
       "      <th>view</th>\n",
       "      <th>...</th>\n",
       "      <th>grade</th>\n",
       "      <th>sqft_above</th>\n",
       "      <th>sqft_basement</th>\n",
       "      <th>yr_built</th>\n",
       "      <th>yr_renovated</th>\n",
       "      <th>zipcode</th>\n",
       "      <th>lat</th>\n",
       "      <th>long</th>\n",
       "      <th>sqft_living15</th>\n",
       "      <th>sqft_lot15</th>\n",
       "    </tr>\n",
       "  </thead>\n",
       "  <tbody>\n",
       "    <tr>\n",
       "      <th>0</th>\n",
       "      <td>7129300520</td>\n",
       "      <td>10/13/2014</td>\n",
       "      <td>221900.0</td>\n",
       "      <td>3</td>\n",
       "      <td>1.00</td>\n",
       "      <td>1180</td>\n",
       "      <td>5650</td>\n",
       "      <td>1.0</td>\n",
       "      <td>NaN</td>\n",
       "      <td>0.0</td>\n",
       "      <td>...</td>\n",
       "      <td>7</td>\n",
       "      <td>1180</td>\n",
       "      <td>0.0</td>\n",
       "      <td>1955</td>\n",
       "      <td>0.0</td>\n",
       "      <td>98178</td>\n",
       "      <td>47.5112</td>\n",
       "      <td>-122.257</td>\n",
       "      <td>1340</td>\n",
       "      <td>5650</td>\n",
       "    </tr>\n",
       "    <tr>\n",
       "      <th>1</th>\n",
       "      <td>6414100192</td>\n",
       "      <td>12/9/2014</td>\n",
       "      <td>538000.0</td>\n",
       "      <td>3</td>\n",
       "      <td>2.25</td>\n",
       "      <td>2570</td>\n",
       "      <td>7242</td>\n",
       "      <td>2.0</td>\n",
       "      <td>0.0</td>\n",
       "      <td>0.0</td>\n",
       "      <td>...</td>\n",
       "      <td>7</td>\n",
       "      <td>2170</td>\n",
       "      <td>400.0</td>\n",
       "      <td>1951</td>\n",
       "      <td>1991.0</td>\n",
       "      <td>98125</td>\n",
       "      <td>47.7210</td>\n",
       "      <td>-122.319</td>\n",
       "      <td>1690</td>\n",
       "      <td>7639</td>\n",
       "    </tr>\n",
       "    <tr>\n",
       "      <th>2</th>\n",
       "      <td>5631500400</td>\n",
       "      <td>2/25/2015</td>\n",
       "      <td>180000.0</td>\n",
       "      <td>2</td>\n",
       "      <td>1.00</td>\n",
       "      <td>770</td>\n",
       "      <td>10000</td>\n",
       "      <td>1.0</td>\n",
       "      <td>0.0</td>\n",
       "      <td>0.0</td>\n",
       "      <td>...</td>\n",
       "      <td>6</td>\n",
       "      <td>770</td>\n",
       "      <td>0.0</td>\n",
       "      <td>1933</td>\n",
       "      <td>NaN</td>\n",
       "      <td>98028</td>\n",
       "      <td>47.7379</td>\n",
       "      <td>-122.233</td>\n",
       "      <td>2720</td>\n",
       "      <td>8062</td>\n",
       "    </tr>\n",
       "    <tr>\n",
       "      <th>3</th>\n",
       "      <td>2487200875</td>\n",
       "      <td>12/9/2014</td>\n",
       "      <td>604000.0</td>\n",
       "      <td>4</td>\n",
       "      <td>3.00</td>\n",
       "      <td>1960</td>\n",
       "      <td>5000</td>\n",
       "      <td>1.0</td>\n",
       "      <td>0.0</td>\n",
       "      <td>0.0</td>\n",
       "      <td>...</td>\n",
       "      <td>7</td>\n",
       "      <td>1050</td>\n",
       "      <td>910.0</td>\n",
       "      <td>1965</td>\n",
       "      <td>0.0</td>\n",
       "      <td>98136</td>\n",
       "      <td>47.5208</td>\n",
       "      <td>-122.393</td>\n",
       "      <td>1360</td>\n",
       "      <td>5000</td>\n",
       "    </tr>\n",
       "    <tr>\n",
       "      <th>4</th>\n",
       "      <td>1954400510</td>\n",
       "      <td>2/18/2015</td>\n",
       "      <td>510000.0</td>\n",
       "      <td>3</td>\n",
       "      <td>2.00</td>\n",
       "      <td>1680</td>\n",
       "      <td>8080</td>\n",
       "      <td>1.0</td>\n",
       "      <td>0.0</td>\n",
       "      <td>0.0</td>\n",
       "      <td>...</td>\n",
       "      <td>8</td>\n",
       "      <td>1680</td>\n",
       "      <td>0.0</td>\n",
       "      <td>1987</td>\n",
       "      <td>0.0</td>\n",
       "      <td>98074</td>\n",
       "      <td>47.6168</td>\n",
       "      <td>-122.045</td>\n",
       "      <td>1800</td>\n",
       "      <td>7503</td>\n",
       "    </tr>\n",
       "  </tbody>\n",
       "</table>\n",
       "<p>5 rows × 21 columns</p>\n",
       "</div>"
      ],
      "text/plain": [
       "           id        date     price  bedrooms  bathrooms  sqft_living  \\\n",
       "0  7129300520  10/13/2014  221900.0         3       1.00         1180   \n",
       "1  6414100192   12/9/2014  538000.0         3       2.25         2570   \n",
       "2  5631500400   2/25/2015  180000.0         2       1.00          770   \n",
       "3  2487200875   12/9/2014  604000.0         4       3.00         1960   \n",
       "4  1954400510   2/18/2015  510000.0         3       2.00         1680   \n",
       "\n",
       "   sqft_lot  floors  waterfront  view  ...  grade  sqft_above  sqft_basement  \\\n",
       "0      5650     1.0         NaN   0.0  ...      7        1180            0.0   \n",
       "1      7242     2.0         0.0   0.0  ...      7        2170          400.0   \n",
       "2     10000     1.0         0.0   0.0  ...      6         770            0.0   \n",
       "3      5000     1.0         0.0   0.0  ...      7        1050          910.0   \n",
       "4      8080     1.0         0.0   0.0  ...      8        1680            0.0   \n",
       "\n",
       "  yr_built  yr_renovated  zipcode      lat     long  sqft_living15  sqft_lot15  \n",
       "0     1955           0.0    98178  47.5112 -122.257           1340        5650  \n",
       "1     1951        1991.0    98125  47.7210 -122.319           1690        7639  \n",
       "2     1933           NaN    98028  47.7379 -122.233           2720        8062  \n",
       "3     1965           0.0    98136  47.5208 -122.393           1360        5000  \n",
       "4     1987           0.0    98074  47.6168 -122.045           1800        7503  \n",
       "\n",
       "[5 rows x 21 columns]"
      ]
     },
     "execution_count": 328,
     "metadata": {},
     "output_type": "execute_result"
    }
   ],
   "source": [
    "df = pd.read_csv(\"data/kc_house_data.csv\") # Read the data stored in kc_house_data.csv\n",
    "df.head()\n"
   ]
  },
  {
   "cell_type": "code",
   "execution_count": 329,
   "metadata": {},
   "outputs": [
    {
     "data": {
      "text/plain": [
       "Index(['id', 'date', 'price', 'bedrooms', 'bathrooms', 'sqft_living',\n",
       "       'sqft_lot', 'floors', 'waterfront', 'view', 'condition', 'grade',\n",
       "       'sqft_above', 'sqft_basement', 'yr_built', 'yr_renovated', 'zipcode',\n",
       "       'lat', 'long', 'sqft_living15', 'sqft_lot15'],\n",
       "      dtype='object')"
      ]
     },
     "execution_count": 329,
     "metadata": {},
     "output_type": "execute_result"
    }
   ],
   "source": [
    "df.columns # Accesses columns in our dataset"
   ]
  },
  {
   "cell_type": "markdown",
   "metadata": {},
   "source": [
    "# EDA & DATA CLEANING"
   ]
  },
  {
   "cell_type": "code",
   "execution_count": 330,
   "metadata": {},
   "outputs": [
    {
     "data": {
      "text/plain": [
       "(21597, 21)"
      ]
     },
     "execution_count": 330,
     "metadata": {},
     "output_type": "execute_result"
    }
   ],
   "source": [
    "df.shape"
   ]
  },
  {
   "cell_type": "markdown",
   "metadata": {},
   "source": [
    "- Number of Rows (Observations): There are 21597 rows in the DataFrame.\n",
    "- Number of Columns (Variables): There are 21 columns (or variables) in the DataFrame."
   ]
  },
  {
   "cell_type": "code",
   "execution_count": 331,
   "metadata": {},
   "outputs": [
    {
     "name": "stdout",
     "output_type": "stream",
     "text": [
      "<class 'pandas.core.frame.DataFrame'>\n",
      "RangeIndex: 21597 entries, 0 to 21596\n",
      "Data columns (total 21 columns):\n",
      " #   Column         Non-Null Count  Dtype  \n",
      "---  ------         --------------  -----  \n",
      " 0   id             21597 non-null  int64  \n",
      " 1   date           21597 non-null  object \n",
      " 2   price          21597 non-null  float64\n",
      " 3   bedrooms       21597 non-null  int64  \n",
      " 4   bathrooms      21597 non-null  float64\n",
      " 5   sqft_living    21597 non-null  int64  \n",
      " 6   sqft_lot       21597 non-null  int64  \n",
      " 7   floors         21597 non-null  float64\n",
      " 8   waterfront     19221 non-null  float64\n",
      " 9   view           21534 non-null  float64\n",
      " 10  condition      21597 non-null  int64  \n",
      " 11  grade          21597 non-null  int64  \n",
      " 12  sqft_above     21597 non-null  int64  \n",
      " 13  sqft_basement  21597 non-null  object \n",
      " 14  yr_built       21597 non-null  int64  \n",
      " 15  yr_renovated   17755 non-null  float64\n",
      " 16  zipcode        21597 non-null  int64  \n",
      " 17  lat            21597 non-null  float64\n",
      " 18  long           21597 non-null  float64\n",
      " 19  sqft_living15  21597 non-null  int64  \n",
      " 20  sqft_lot15     21597 non-null  int64  \n",
      "dtypes: float64(8), int64(11), object(2)\n",
      "memory usage: 3.5+ MB\n"
     ]
    }
   ],
   "source": [
    "df.info()"
   ]
  },
  {
   "cell_type": "code",
   "execution_count": 332,
   "metadata": {},
   "outputs": [
    {
     "data": {
      "text/plain": [
       "Index(['id', 'date', 'price', 'bedrooms', 'bathrooms', 'sqft_living',\n",
       "       'sqft_lot', 'floors', 'waterfront', 'view', 'condition', 'grade',\n",
       "       'sqft_above', 'sqft_basement', 'yr_built', 'yr_renovated', 'zipcode',\n",
       "       'lat', 'long', 'sqft_living15', 'sqft_lot15'],\n",
       "      dtype='object')"
      ]
     },
     "execution_count": 332,
     "metadata": {},
     "output_type": "execute_result"
    }
   ],
   "source": [
    "df.columns #check column names\n"
   ]
  },
  {
   "cell_type": "markdown",
   "metadata": {},
   "source": [
    "# Column Names and descriptions for Kings County Data Set\n",
    "* **id** - unique identified for a house\n",
    "* **dateDate** - house was sold\n",
    "* **pricePrice** -  is prediction target\n",
    "* **bedroomsNumber** -  of Bedrooms/House\n",
    "* **bathroomsNumber** -  of bathrooms/bedrooms\n",
    "* **sqft_livingsquare** -  footage of the home\n",
    "* **sqft_lotsquare** -  footage of the lot\n",
    "* **floorsTotal** -  floors (levels) in house\n",
    "* **waterfront** - House which has a view to a waterfront\n",
    "* **view** - Has been viewed\n",
    "* **condition** - How good the condition is ( Overall )\n",
    "* **grade** - overall grade given to the housing unit, based on King County grading system\n",
    "* **sqft_above** - square footage of house apart from basement\n",
    "* **sqft_basement** - square footage of the basement\n",
    "* **yr_built** - Built Year\n",
    "* **yr_renovated** - Year when house was renovated\n",
    "* **zipcode** - zip\n",
    "* **lat** - Latitude coordinate\n",
    "* **long** - Longitude coordinate\n",
    "* **sqft_living15** - The square footage of interior housing living space for the nearest 15 neighbors\n",
    "* **sqft_lot15** - The square footage of the land lots of the nearest 15 neighbors"
   ]
  },
  {
   "cell_type": "code",
   "execution_count": 333,
   "metadata": {},
   "outputs": [
    {
     "data": {
      "text/html": [
       "<div>\n",
       "<style scoped>\n",
       "    .dataframe tbody tr th:only-of-type {\n",
       "        vertical-align: middle;\n",
       "    }\n",
       "\n",
       "    .dataframe tbody tr th {\n",
       "        vertical-align: top;\n",
       "    }\n",
       "\n",
       "    .dataframe thead th {\n",
       "        text-align: right;\n",
       "    }\n",
       "</style>\n",
       "<table border=\"1\" class=\"dataframe\">\n",
       "  <thead>\n",
       "    <tr style=\"text-align: right;\">\n",
       "      <th></th>\n",
       "      <th>id</th>\n",
       "      <th>price</th>\n",
       "      <th>bedrooms</th>\n",
       "      <th>bathrooms</th>\n",
       "      <th>sqft_living</th>\n",
       "      <th>sqft_lot</th>\n",
       "      <th>floors</th>\n",
       "      <th>waterfront</th>\n",
       "      <th>view</th>\n",
       "      <th>condition</th>\n",
       "      <th>grade</th>\n",
       "      <th>sqft_above</th>\n",
       "      <th>yr_built</th>\n",
       "      <th>yr_renovated</th>\n",
       "      <th>zipcode</th>\n",
       "      <th>lat</th>\n",
       "      <th>long</th>\n",
       "      <th>sqft_living15</th>\n",
       "      <th>sqft_lot15</th>\n",
       "    </tr>\n",
       "  </thead>\n",
       "  <tbody>\n",
       "    <tr>\n",
       "      <th>count</th>\n",
       "      <td>2.159700e+04</td>\n",
       "      <td>2.159700e+04</td>\n",
       "      <td>21597.000000</td>\n",
       "      <td>21597.000000</td>\n",
       "      <td>21597.000000</td>\n",
       "      <td>2.159700e+04</td>\n",
       "      <td>21597.000000</td>\n",
       "      <td>19221.000000</td>\n",
       "      <td>21534.000000</td>\n",
       "      <td>21597.000000</td>\n",
       "      <td>21597.000000</td>\n",
       "      <td>21597.000000</td>\n",
       "      <td>21597.000000</td>\n",
       "      <td>17755.000000</td>\n",
       "      <td>21597.000000</td>\n",
       "      <td>21597.000000</td>\n",
       "      <td>21597.000000</td>\n",
       "      <td>21597.000000</td>\n",
       "      <td>21597.000000</td>\n",
       "    </tr>\n",
       "    <tr>\n",
       "      <th>mean</th>\n",
       "      <td>4.580474e+09</td>\n",
       "      <td>5.402966e+05</td>\n",
       "      <td>3.373200</td>\n",
       "      <td>2.115826</td>\n",
       "      <td>2080.321850</td>\n",
       "      <td>1.509941e+04</td>\n",
       "      <td>1.494096</td>\n",
       "      <td>0.007596</td>\n",
       "      <td>0.233863</td>\n",
       "      <td>3.409825</td>\n",
       "      <td>7.657915</td>\n",
       "      <td>1788.596842</td>\n",
       "      <td>1970.999676</td>\n",
       "      <td>83.636778</td>\n",
       "      <td>98077.951845</td>\n",
       "      <td>47.560093</td>\n",
       "      <td>-122.213982</td>\n",
       "      <td>1986.620318</td>\n",
       "      <td>12758.283512</td>\n",
       "    </tr>\n",
       "    <tr>\n",
       "      <th>std</th>\n",
       "      <td>2.876736e+09</td>\n",
       "      <td>3.673681e+05</td>\n",
       "      <td>0.926299</td>\n",
       "      <td>0.768984</td>\n",
       "      <td>918.106125</td>\n",
       "      <td>4.141264e+04</td>\n",
       "      <td>0.539683</td>\n",
       "      <td>0.086825</td>\n",
       "      <td>0.765686</td>\n",
       "      <td>0.650546</td>\n",
       "      <td>1.173200</td>\n",
       "      <td>827.759761</td>\n",
       "      <td>29.375234</td>\n",
       "      <td>399.946414</td>\n",
       "      <td>53.513072</td>\n",
       "      <td>0.138552</td>\n",
       "      <td>0.140724</td>\n",
       "      <td>685.230472</td>\n",
       "      <td>27274.441950</td>\n",
       "    </tr>\n",
       "    <tr>\n",
       "      <th>min</th>\n",
       "      <td>1.000102e+06</td>\n",
       "      <td>7.800000e+04</td>\n",
       "      <td>1.000000</td>\n",
       "      <td>0.500000</td>\n",
       "      <td>370.000000</td>\n",
       "      <td>5.200000e+02</td>\n",
       "      <td>1.000000</td>\n",
       "      <td>0.000000</td>\n",
       "      <td>0.000000</td>\n",
       "      <td>1.000000</td>\n",
       "      <td>3.000000</td>\n",
       "      <td>370.000000</td>\n",
       "      <td>1900.000000</td>\n",
       "      <td>0.000000</td>\n",
       "      <td>98001.000000</td>\n",
       "      <td>47.155900</td>\n",
       "      <td>-122.519000</td>\n",
       "      <td>399.000000</td>\n",
       "      <td>651.000000</td>\n",
       "    </tr>\n",
       "    <tr>\n",
       "      <th>25%</th>\n",
       "      <td>2.123049e+09</td>\n",
       "      <td>3.220000e+05</td>\n",
       "      <td>3.000000</td>\n",
       "      <td>1.750000</td>\n",
       "      <td>1430.000000</td>\n",
       "      <td>5.040000e+03</td>\n",
       "      <td>1.000000</td>\n",
       "      <td>0.000000</td>\n",
       "      <td>0.000000</td>\n",
       "      <td>3.000000</td>\n",
       "      <td>7.000000</td>\n",
       "      <td>1190.000000</td>\n",
       "      <td>1951.000000</td>\n",
       "      <td>0.000000</td>\n",
       "      <td>98033.000000</td>\n",
       "      <td>47.471100</td>\n",
       "      <td>-122.328000</td>\n",
       "      <td>1490.000000</td>\n",
       "      <td>5100.000000</td>\n",
       "    </tr>\n",
       "    <tr>\n",
       "      <th>50%</th>\n",
       "      <td>3.904930e+09</td>\n",
       "      <td>4.500000e+05</td>\n",
       "      <td>3.000000</td>\n",
       "      <td>2.250000</td>\n",
       "      <td>1910.000000</td>\n",
       "      <td>7.618000e+03</td>\n",
       "      <td>1.500000</td>\n",
       "      <td>0.000000</td>\n",
       "      <td>0.000000</td>\n",
       "      <td>3.000000</td>\n",
       "      <td>7.000000</td>\n",
       "      <td>1560.000000</td>\n",
       "      <td>1975.000000</td>\n",
       "      <td>0.000000</td>\n",
       "      <td>98065.000000</td>\n",
       "      <td>47.571800</td>\n",
       "      <td>-122.231000</td>\n",
       "      <td>1840.000000</td>\n",
       "      <td>7620.000000</td>\n",
       "    </tr>\n",
       "    <tr>\n",
       "      <th>75%</th>\n",
       "      <td>7.308900e+09</td>\n",
       "      <td>6.450000e+05</td>\n",
       "      <td>4.000000</td>\n",
       "      <td>2.500000</td>\n",
       "      <td>2550.000000</td>\n",
       "      <td>1.068500e+04</td>\n",
       "      <td>2.000000</td>\n",
       "      <td>0.000000</td>\n",
       "      <td>0.000000</td>\n",
       "      <td>4.000000</td>\n",
       "      <td>8.000000</td>\n",
       "      <td>2210.000000</td>\n",
       "      <td>1997.000000</td>\n",
       "      <td>0.000000</td>\n",
       "      <td>98118.000000</td>\n",
       "      <td>47.678000</td>\n",
       "      <td>-122.125000</td>\n",
       "      <td>2360.000000</td>\n",
       "      <td>10083.000000</td>\n",
       "    </tr>\n",
       "    <tr>\n",
       "      <th>max</th>\n",
       "      <td>9.900000e+09</td>\n",
       "      <td>7.700000e+06</td>\n",
       "      <td>33.000000</td>\n",
       "      <td>8.000000</td>\n",
       "      <td>13540.000000</td>\n",
       "      <td>1.651359e+06</td>\n",
       "      <td>3.500000</td>\n",
       "      <td>1.000000</td>\n",
       "      <td>4.000000</td>\n",
       "      <td>5.000000</td>\n",
       "      <td>13.000000</td>\n",
       "      <td>9410.000000</td>\n",
       "      <td>2015.000000</td>\n",
       "      <td>2015.000000</td>\n",
       "      <td>98199.000000</td>\n",
       "      <td>47.777600</td>\n",
       "      <td>-121.315000</td>\n",
       "      <td>6210.000000</td>\n",
       "      <td>871200.000000</td>\n",
       "    </tr>\n",
       "  </tbody>\n",
       "</table>\n",
       "</div>"
      ],
      "text/plain": [
       "                 id         price      bedrooms     bathrooms   sqft_living  \\\n",
       "count  2.159700e+04  2.159700e+04  21597.000000  21597.000000  21597.000000   \n",
       "mean   4.580474e+09  5.402966e+05      3.373200      2.115826   2080.321850   \n",
       "std    2.876736e+09  3.673681e+05      0.926299      0.768984    918.106125   \n",
       "min    1.000102e+06  7.800000e+04      1.000000      0.500000    370.000000   \n",
       "25%    2.123049e+09  3.220000e+05      3.000000      1.750000   1430.000000   \n",
       "50%    3.904930e+09  4.500000e+05      3.000000      2.250000   1910.000000   \n",
       "75%    7.308900e+09  6.450000e+05      4.000000      2.500000   2550.000000   \n",
       "max    9.900000e+09  7.700000e+06     33.000000      8.000000  13540.000000   \n",
       "\n",
       "           sqft_lot        floors    waterfront          view     condition  \\\n",
       "count  2.159700e+04  21597.000000  19221.000000  21534.000000  21597.000000   \n",
       "mean   1.509941e+04      1.494096      0.007596      0.233863      3.409825   \n",
       "std    4.141264e+04      0.539683      0.086825      0.765686      0.650546   \n",
       "min    5.200000e+02      1.000000      0.000000      0.000000      1.000000   \n",
       "25%    5.040000e+03      1.000000      0.000000      0.000000      3.000000   \n",
       "50%    7.618000e+03      1.500000      0.000000      0.000000      3.000000   \n",
       "75%    1.068500e+04      2.000000      0.000000      0.000000      4.000000   \n",
       "max    1.651359e+06      3.500000      1.000000      4.000000      5.000000   \n",
       "\n",
       "              grade    sqft_above      yr_built  yr_renovated       zipcode  \\\n",
       "count  21597.000000  21597.000000  21597.000000  17755.000000  21597.000000   \n",
       "mean       7.657915   1788.596842   1970.999676     83.636778  98077.951845   \n",
       "std        1.173200    827.759761     29.375234    399.946414     53.513072   \n",
       "min        3.000000    370.000000   1900.000000      0.000000  98001.000000   \n",
       "25%        7.000000   1190.000000   1951.000000      0.000000  98033.000000   \n",
       "50%        7.000000   1560.000000   1975.000000      0.000000  98065.000000   \n",
       "75%        8.000000   2210.000000   1997.000000      0.000000  98118.000000   \n",
       "max       13.000000   9410.000000   2015.000000   2015.000000  98199.000000   \n",
       "\n",
       "                lat          long  sqft_living15     sqft_lot15  \n",
       "count  21597.000000  21597.000000   21597.000000   21597.000000  \n",
       "mean      47.560093   -122.213982    1986.620318   12758.283512  \n",
       "std        0.138552      0.140724     685.230472   27274.441950  \n",
       "min       47.155900   -122.519000     399.000000     651.000000  \n",
       "25%       47.471100   -122.328000    1490.000000    5100.000000  \n",
       "50%       47.571800   -122.231000    1840.000000    7620.000000  \n",
       "75%       47.678000   -122.125000    2360.000000   10083.000000  \n",
       "max       47.777600   -121.315000    6210.000000  871200.000000  "
      ]
     },
     "execution_count": 333,
     "metadata": {},
     "output_type": "execute_result"
    }
   ],
   "source": [
    "df.describe() # Data Description of Numerical columns"
   ]
  },
  {
   "cell_type": "markdown",
   "metadata": {},
   "source": [
    "- We drop  duplicated rows and columns that are not that relevant in helping us come up with the models"
   ]
  },
  {
   "cell_type": "code",
   "execution_count": 334,
   "metadata": {},
   "outputs": [],
   "source": [
    "#drop duplicates\n",
    "df = df.drop_duplicates(subset= ['id'])"
   ]
  },
  {
   "cell_type": "code",
   "execution_count": 335,
   "metadata": {},
   "outputs": [
    {
     "data": {
      "text/html": [
       "<div>\n",
       "<style scoped>\n",
       "    .dataframe tbody tr th:only-of-type {\n",
       "        vertical-align: middle;\n",
       "    }\n",
       "\n",
       "    .dataframe tbody tr th {\n",
       "        vertical-align: top;\n",
       "    }\n",
       "\n",
       "    .dataframe thead th {\n",
       "        text-align: right;\n",
       "    }\n",
       "</style>\n",
       "<table border=\"1\" class=\"dataframe\">\n",
       "  <thead>\n",
       "    <tr style=\"text-align: right;\">\n",
       "      <th></th>\n",
       "      <th>price</th>\n",
       "      <th>bedrooms</th>\n",
       "      <th>bathrooms</th>\n",
       "      <th>sqft_living</th>\n",
       "      <th>sqft_lot</th>\n",
       "      <th>floors</th>\n",
       "      <th>waterfront</th>\n",
       "      <th>condition</th>\n",
       "      <th>grade</th>\n",
       "      <th>yr_built</th>\n",
       "      <th>yr_renovated</th>\n",
       "    </tr>\n",
       "  </thead>\n",
       "  <tbody>\n",
       "    <tr>\n",
       "      <th>0</th>\n",
       "      <td>221900.0</td>\n",
       "      <td>3</td>\n",
       "      <td>1.00</td>\n",
       "      <td>1180</td>\n",
       "      <td>5650</td>\n",
       "      <td>1.0</td>\n",
       "      <td>NaN</td>\n",
       "      <td>3</td>\n",
       "      <td>7</td>\n",
       "      <td>1955</td>\n",
       "      <td>0.0</td>\n",
       "    </tr>\n",
       "    <tr>\n",
       "      <th>1</th>\n",
       "      <td>538000.0</td>\n",
       "      <td>3</td>\n",
       "      <td>2.25</td>\n",
       "      <td>2570</td>\n",
       "      <td>7242</td>\n",
       "      <td>2.0</td>\n",
       "      <td>0.0</td>\n",
       "      <td>3</td>\n",
       "      <td>7</td>\n",
       "      <td>1951</td>\n",
       "      <td>1991.0</td>\n",
       "    </tr>\n",
       "    <tr>\n",
       "      <th>2</th>\n",
       "      <td>180000.0</td>\n",
       "      <td>2</td>\n",
       "      <td>1.00</td>\n",
       "      <td>770</td>\n",
       "      <td>10000</td>\n",
       "      <td>1.0</td>\n",
       "      <td>0.0</td>\n",
       "      <td>3</td>\n",
       "      <td>6</td>\n",
       "      <td>1933</td>\n",
       "      <td>NaN</td>\n",
       "    </tr>\n",
       "    <tr>\n",
       "      <th>3</th>\n",
       "      <td>604000.0</td>\n",
       "      <td>4</td>\n",
       "      <td>3.00</td>\n",
       "      <td>1960</td>\n",
       "      <td>5000</td>\n",
       "      <td>1.0</td>\n",
       "      <td>0.0</td>\n",
       "      <td>5</td>\n",
       "      <td>7</td>\n",
       "      <td>1965</td>\n",
       "      <td>0.0</td>\n",
       "    </tr>\n",
       "    <tr>\n",
       "      <th>4</th>\n",
       "      <td>510000.0</td>\n",
       "      <td>3</td>\n",
       "      <td>2.00</td>\n",
       "      <td>1680</td>\n",
       "      <td>8080</td>\n",
       "      <td>1.0</td>\n",
       "      <td>0.0</td>\n",
       "      <td>3</td>\n",
       "      <td>8</td>\n",
       "      <td>1987</td>\n",
       "      <td>0.0</td>\n",
       "    </tr>\n",
       "  </tbody>\n",
       "</table>\n",
       "</div>"
      ],
      "text/plain": [
       "      price  bedrooms  bathrooms  sqft_living  sqft_lot  floors  waterfront  \\\n",
       "0  221900.0         3       1.00         1180      5650     1.0         NaN   \n",
       "1  538000.0         3       2.25         2570      7242     2.0         0.0   \n",
       "2  180000.0         2       1.00          770     10000     1.0         0.0   \n",
       "3  604000.0         4       3.00         1960      5000     1.0         0.0   \n",
       "4  510000.0         3       2.00         1680      8080     1.0         0.0   \n",
       "\n",
       "   condition  grade  yr_built  yr_renovated  \n",
       "0          3      7      1955           0.0  \n",
       "1          3      7      1951        1991.0  \n",
       "2          3      6      1933           NaN  \n",
       "3          5      7      1965           0.0  \n",
       "4          3      8      1987           0.0  "
      ]
     },
     "execution_count": 335,
     "metadata": {},
     "output_type": "execute_result"
    }
   ],
   "source": [
    "df = df.drop(['id','date','view','sqft_above','sqft_basement','zipcode','lat','long','sqft_living15','sqft_lot15'], axis=1)\n",
    "df.head()"
   ]
  },
  {
   "cell_type": "code",
   "execution_count": 336,
   "metadata": {},
   "outputs": [
    {
     "data": {
      "text/plain": [
       "price              0\n",
       "bedrooms           0\n",
       "bathrooms          0\n",
       "sqft_living        0\n",
       "sqft_lot           0\n",
       "floors             0\n",
       "waterfront      2353\n",
       "condition          0\n",
       "grade              0\n",
       "yr_built           0\n",
       "yr_renovated    3804\n",
       "dtype: int64"
      ]
     },
     "execution_count": 336,
     "metadata": {},
     "output_type": "execute_result"
    }
   ],
   "source": [
    "df.isna().sum() #Check for columns with null values"
   ]
  },
  {
   "cell_type": "code",
   "execution_count": 337,
   "metadata": {},
   "outputs": [
    {
     "data": {
      "text/plain": [
       "0.17759103641456583"
      ]
     },
     "execution_count": 337,
     "metadata": {},
     "output_type": "execute_result"
    }
   ],
   "source": [
    "#percentage of nans\n",
    "\n",
    "percentage_nan = 3804/21420\n",
    "percentage_nan"
   ]
  },
  {
   "cell_type": "markdown",
   "metadata": {},
   "source": [
    "filling nans with zeros, the assumption being that they have no water fronts and/or they have not been renovated, This because the percentage of nans for yr_renovated is almost  a significant 20% and may affect our analysis if we drop"
   ]
  },
  {
   "cell_type": "code",
   "execution_count": 338,
   "metadata": {},
   "outputs": [],
   "source": [
    "#filling nans with zero\n",
    "df = df.fillna(0.0)"
   ]
  },
  {
   "cell_type": "markdown",
   "metadata": {},
   "source": [
    "Rechecking for null values"
   ]
  },
  {
   "cell_type": "code",
   "execution_count": 339,
   "metadata": {},
   "outputs": [
    {
     "data": {
      "text/plain": [
       "price           0\n",
       "bedrooms        0\n",
       "bathrooms       0\n",
       "sqft_living     0\n",
       "sqft_lot        0\n",
       "floors          0\n",
       "waterfront      0\n",
       "condition       0\n",
       "grade           0\n",
       "yr_built        0\n",
       "yr_renovated    0\n",
       "dtype: int64"
      ]
     },
     "execution_count": 339,
     "metadata": {},
     "output_type": "execute_result"
    }
   ],
   "source": [
    "df.isna().sum()"
   ]
  },
  {
   "cell_type": "markdown",
   "metadata": {},
   "source": [
    "next we convert waterfront and yr_renovated to boolean values, and give them suitable names"
   ]
  },
  {
   "cell_type": "code",
   "execution_count": 340,
   "metadata": {},
   "outputs": [],
   "source": [
    "# Replace values in column 'yr_renovated' with booleans based on a condition\n",
    "df['waterfront'] = df['waterfront'].apply(lambda x: x > 0)\n",
    "# Replace values in column 'yr_renovated' with booleans based on a condition\n",
    "df['yr_renovated'] = df['yr_renovated'].apply(lambda x: x > 0)\n",
    "df = df.rename(columns={'waterfront': 'has_waterfront', 'yr_renovated': 'is_renovated'})"
   ]
  },
  {
   "cell_type": "code",
   "execution_count": 341,
   "metadata": {},
   "outputs": [
    {
     "data": {
      "text/html": [
       "<div>\n",
       "<style scoped>\n",
       "    .dataframe tbody tr th:only-of-type {\n",
       "        vertical-align: middle;\n",
       "    }\n",
       "\n",
       "    .dataframe tbody tr th {\n",
       "        vertical-align: top;\n",
       "    }\n",
       "\n",
       "    .dataframe thead th {\n",
       "        text-align: right;\n",
       "    }\n",
       "</style>\n",
       "<table border=\"1\" class=\"dataframe\">\n",
       "  <thead>\n",
       "    <tr style=\"text-align: right;\">\n",
       "      <th></th>\n",
       "      <th>price</th>\n",
       "      <th>bedrooms</th>\n",
       "      <th>bathrooms</th>\n",
       "      <th>sqft_living</th>\n",
       "      <th>sqft_lot</th>\n",
       "      <th>floors</th>\n",
       "      <th>has_waterfront</th>\n",
       "      <th>condition</th>\n",
       "      <th>grade</th>\n",
       "      <th>yr_built</th>\n",
       "      <th>is_renovated</th>\n",
       "    </tr>\n",
       "  </thead>\n",
       "  <tbody>\n",
       "    <tr>\n",
       "      <th>0</th>\n",
       "      <td>221900.0</td>\n",
       "      <td>3</td>\n",
       "      <td>1.00</td>\n",
       "      <td>1180</td>\n",
       "      <td>5650</td>\n",
       "      <td>1.0</td>\n",
       "      <td>False</td>\n",
       "      <td>3</td>\n",
       "      <td>7</td>\n",
       "      <td>1955</td>\n",
       "      <td>False</td>\n",
       "    </tr>\n",
       "    <tr>\n",
       "      <th>1</th>\n",
       "      <td>538000.0</td>\n",
       "      <td>3</td>\n",
       "      <td>2.25</td>\n",
       "      <td>2570</td>\n",
       "      <td>7242</td>\n",
       "      <td>2.0</td>\n",
       "      <td>False</td>\n",
       "      <td>3</td>\n",
       "      <td>7</td>\n",
       "      <td>1951</td>\n",
       "      <td>True</td>\n",
       "    </tr>\n",
       "    <tr>\n",
       "      <th>2</th>\n",
       "      <td>180000.0</td>\n",
       "      <td>2</td>\n",
       "      <td>1.00</td>\n",
       "      <td>770</td>\n",
       "      <td>10000</td>\n",
       "      <td>1.0</td>\n",
       "      <td>False</td>\n",
       "      <td>3</td>\n",
       "      <td>6</td>\n",
       "      <td>1933</td>\n",
       "      <td>False</td>\n",
       "    </tr>\n",
       "    <tr>\n",
       "      <th>3</th>\n",
       "      <td>604000.0</td>\n",
       "      <td>4</td>\n",
       "      <td>3.00</td>\n",
       "      <td>1960</td>\n",
       "      <td>5000</td>\n",
       "      <td>1.0</td>\n",
       "      <td>False</td>\n",
       "      <td>5</td>\n",
       "      <td>7</td>\n",
       "      <td>1965</td>\n",
       "      <td>False</td>\n",
       "    </tr>\n",
       "    <tr>\n",
       "      <th>4</th>\n",
       "      <td>510000.0</td>\n",
       "      <td>3</td>\n",
       "      <td>2.00</td>\n",
       "      <td>1680</td>\n",
       "      <td>8080</td>\n",
       "      <td>1.0</td>\n",
       "      <td>False</td>\n",
       "      <td>3</td>\n",
       "      <td>8</td>\n",
       "      <td>1987</td>\n",
       "      <td>False</td>\n",
       "    </tr>\n",
       "  </tbody>\n",
       "</table>\n",
       "</div>"
      ],
      "text/plain": [
       "      price  bedrooms  bathrooms  sqft_living  sqft_lot  floors  \\\n",
       "0  221900.0         3       1.00         1180      5650     1.0   \n",
       "1  538000.0         3       2.25         2570      7242     2.0   \n",
       "2  180000.0         2       1.00          770     10000     1.0   \n",
       "3  604000.0         4       3.00         1960      5000     1.0   \n",
       "4  510000.0         3       2.00         1680      8080     1.0   \n",
       "\n",
       "   has_waterfront  condition  grade  yr_built  is_renovated  \n",
       "0           False          3      7      1955         False  \n",
       "1           False          3      7      1951          True  \n",
       "2           False          3      6      1933         False  \n",
       "3           False          5      7      1965         False  \n",
       "4           False          3      8      1987         False  "
      ]
     },
     "execution_count": 341,
     "metadata": {},
     "output_type": "execute_result"
    }
   ],
   "source": [
    "df.head()"
   ]
  },
  {
   "cell_type": "markdown",
   "metadata": {},
   "source": [
    "- Next replace yr_built with age"
   ]
  },
  {
   "cell_type": "code",
   "execution_count": 342,
   "metadata": {},
   "outputs": [],
   "source": [
    "df['age'] = 2024 - df['yr_built']\n",
    "df = df.drop(columns= ['yr_built'])\n"
   ]
  },
  {
   "cell_type": "code",
   "execution_count": 343,
   "metadata": {},
   "outputs": [
    {
     "name": "stdout",
     "output_type": "stream",
     "text": [
      "<class 'pandas.core.frame.DataFrame'>\n",
      "Int64Index: 21420 entries, 0 to 21596\n",
      "Data columns (total 11 columns):\n",
      " #   Column          Non-Null Count  Dtype  \n",
      "---  ------          --------------  -----  \n",
      " 0   price           21420 non-null  float64\n",
      " 1   bedrooms        21420 non-null  int64  \n",
      " 2   bathrooms       21420 non-null  float64\n",
      " 3   sqft_living     21420 non-null  int64  \n",
      " 4   sqft_lot        21420 non-null  int64  \n",
      " 5   floors          21420 non-null  float64\n",
      " 6   has_waterfront  21420 non-null  bool   \n",
      " 7   condition       21420 non-null  int64  \n",
      " 8   grade           21420 non-null  int64  \n",
      " 9   is_renovated    21420 non-null  bool   \n",
      " 10  age             21420 non-null  int64  \n",
      "dtypes: bool(2), float64(3), int64(6)\n",
      "memory usage: 1.7 MB\n"
     ]
    }
   ],
   "source": [
    "df.info()"
   ]
  },
  {
   "cell_type": "markdown",
   "metadata": {},
   "source": [
    "# Feature Selection"
   ]
  },
  {
   "cell_type": "markdown",
   "metadata": {},
   "source": [
    "## Pair plot"
   ]
  },
  {
   "cell_type": "code",
   "execution_count": 344,
   "metadata": {},
   "outputs": [],
   "source": [
    "sns.pairplot(data=df)"
   ]
  },
  {
   "cell_type": "markdown",
   "metadata": {},
   "source": [
    "## Heatmap"
   ]
  },
  {
   "cell_type": "code",
   "execution_count": null,
   "metadata": {},
   "outputs": [
    {
     "data": {
      "text/plain": [
       "<AxesSubplot:>"
      ]
     },
     "execution_count": 300,
     "metadata": {},
     "output_type": "execute_result"
    },
    {
     "data": {
      "image/png": "[encoded data removed]",
      "text/plain": [
       "<Figure size 432x288 with 2 Axes>"
      ]
     },
     "metadata": {
      "needs_background": "light"
     },
     "output_type": "display_data"
    }
   ],
   "source": [
    "sns.heatmap(df.corr(),cmap=\"coolwarm\",annot=True)"
   ]
  },
  {
   "cell_type": "markdown",
   "metadata": {},
   "source": [
    "## Correlation matrix"
   ]
  },
  {
   "cell_type": "code",
   "execution_count": null,
   "metadata": {},
   "outputs": [
    {
     "data": {
      "text/html": [
       "<div>\n",
       "<style scoped>\n",
       "    .dataframe tbody tr th:only-of-type {\n",
       "        vertical-align: middle;\n",
       "    }\n",
       "\n",
       "    .dataframe tbody tr th {\n",
       "        vertical-align: top;\n",
       "    }\n",
       "\n",
       "    .dataframe thead th {\n",
       "        text-align: right;\n",
       "    }\n",
       "</style>\n",
       "<table border=\"1\" class=\"dataframe\">\n",
       "  <thead>\n",
       "    <tr style=\"text-align: right;\">\n",
       "      <th></th>\n",
       "      <th>price</th>\n",
       "      <th>bedrooms</th>\n",
       "      <th>bathrooms</th>\n",
       "      <th>sqft_living</th>\n",
       "      <th>sqft_lot</th>\n",
       "      <th>floors</th>\n",
       "      <th>has_waterfront</th>\n",
       "      <th>condition</th>\n",
       "      <th>grade</th>\n",
       "      <th>is_renovated</th>\n",
       "      <th>age</th>\n",
       "    </tr>\n",
       "  </thead>\n",
       "  <tbody>\n",
       "    <tr>\n",
       "      <th>price</th>\n",
       "      <td>1.000000</td>\n",
       "      <td>0.309453</td>\n",
       "      <td>0.526229</td>\n",
       "      <td>0.701875</td>\n",
       "      <td>0.089111</td>\n",
       "      <td>0.256286</td>\n",
       "      <td>0.264898</td>\n",
       "      <td>0.034779</td>\n",
       "      <td>0.668020</td>\n",
       "      <td>0.118179</td>\n",
       "      <td>-0.052906</td>\n",
       "    </tr>\n",
       "    <tr>\n",
       "      <th>bedrooms</th>\n",
       "      <td>0.309453</td>\n",
       "      <td>1.000000</td>\n",
       "      <td>0.515383</td>\n",
       "      <td>0.579069</td>\n",
       "      <td>0.032490</td>\n",
       "      <td>0.177734</td>\n",
       "      <td>-0.002205</td>\n",
       "      <td>0.025893</td>\n",
       "      <td>0.357988</td>\n",
       "      <td>0.017204</td>\n",
       "      <td>-0.155241</td>\n",
       "    </tr>\n",
       "    <tr>\n",
       "      <th>bathrooms</th>\n",
       "      <td>0.526229</td>\n",
       "      <td>0.515383</td>\n",
       "      <td>1.000000</td>\n",
       "      <td>0.755522</td>\n",
       "      <td>0.087779</td>\n",
       "      <td>0.501803</td>\n",
       "      <td>0.063635</td>\n",
       "      <td>-0.129362</td>\n",
       "      <td>0.665587</td>\n",
       "      <td>0.047259</td>\n",
       "      <td>-0.506252</td>\n",
       "    </tr>\n",
       "    <tr>\n",
       "      <th>sqft_living</th>\n",
       "      <td>0.701875</td>\n",
       "      <td>0.579069</td>\n",
       "      <td>0.755522</td>\n",
       "      <td>1.000000</td>\n",
       "      <td>0.172586</td>\n",
       "      <td>0.352868</td>\n",
       "      <td>0.104737</td>\n",
       "      <td>-0.061677</td>\n",
       "      <td>0.762477</td>\n",
       "      <td>0.050623</td>\n",
       "      <td>-0.316646</td>\n",
       "    </tr>\n",
       "    <tr>\n",
       "      <th>sqft_lot</th>\n",
       "      <td>0.089111</td>\n",
       "      <td>0.032490</td>\n",
       "      <td>0.087779</td>\n",
       "      <td>0.172586</td>\n",
       "      <td>1.000000</td>\n",
       "      <td>-0.005561</td>\n",
       "      <td>0.021429</td>\n",
       "      <td>-0.009169</td>\n",
       "      <td>0.113656</td>\n",
       "      <td>0.005105</td>\n",
       "      <td>-0.052312</td>\n",
       "    </tr>\n",
       "    <tr>\n",
       "      <th>floors</th>\n",
       "      <td>0.256286</td>\n",
       "      <td>0.177734</td>\n",
       "      <td>0.501803</td>\n",
       "      <td>0.352868</td>\n",
       "      <td>-0.005561</td>\n",
       "      <td>1.000000</td>\n",
       "      <td>0.020578</td>\n",
       "      <td>-0.266859</td>\n",
       "      <td>0.458091</td>\n",
       "      <td>0.003063</td>\n",
       "      <td>-0.488935</td>\n",
       "    </tr>\n",
       "    <tr>\n",
       "      <th>has_waterfront</th>\n",
       "      <td>0.264898</td>\n",
       "      <td>-0.002205</td>\n",
       "      <td>0.063635</td>\n",
       "      <td>0.104737</td>\n",
       "      <td>0.021429</td>\n",
       "      <td>0.020578</td>\n",
       "      <td>1.000000</td>\n",
       "      <td>0.016608</td>\n",
       "      <td>0.082905</td>\n",
       "      <td>0.074429</td>\n",
       "      <td>0.024842</td>\n",
       "    </tr>\n",
       "    <tr>\n",
       "      <th>condition</th>\n",
       "      <td>0.034779</td>\n",
       "      <td>0.025893</td>\n",
       "      <td>-0.129362</td>\n",
       "      <td>-0.061677</td>\n",
       "      <td>-0.009169</td>\n",
       "      <td>-0.266859</td>\n",
       "      <td>0.016608</td>\n",
       "      <td>1.000000</td>\n",
       "      <td>-0.150508</td>\n",
       "      <td>-0.055836</td>\n",
       "      <td>0.365129</td>\n",
       "    </tr>\n",
       "    <tr>\n",
       "      <th>grade</th>\n",
       "      <td>0.668020</td>\n",
       "      <td>0.357988</td>\n",
       "      <td>0.665587</td>\n",
       "      <td>0.762477</td>\n",
       "      <td>0.113656</td>\n",
       "      <td>0.458091</td>\n",
       "      <td>0.082905</td>\n",
       "      <td>-0.150508</td>\n",
       "      <td>1.000000</td>\n",
       "      <td>0.015385</td>\n",
       "      <td>-0.446235</td>\n",
       "    </tr>\n",
       "    <tr>\n",
       "      <th>is_renovated</th>\n",
       "      <td>0.118179</td>\n",
       "      <td>0.017204</td>\n",
       "      <td>0.047259</td>\n",
       "      <td>0.050623</td>\n",
       "      <td>0.005105</td>\n",
       "      <td>0.003063</td>\n",
       "      <td>0.074429</td>\n",
       "      <td>-0.055836</td>\n",
       "      <td>0.015385</td>\n",
       "      <td>1.000000</td>\n",
       "      <td>0.203430</td>\n",
       "    </tr>\n",
       "    <tr>\n",
       "      <th>age</th>\n",
       "      <td>-0.052906</td>\n",
       "      <td>-0.155241</td>\n",
       "      <td>-0.506252</td>\n",
       "      <td>-0.316646</td>\n",
       "      <td>-0.052312</td>\n",
       "      <td>-0.488935</td>\n",
       "      <td>0.024842</td>\n",
       "      <td>0.365129</td>\n",
       "      <td>-0.446235</td>\n",
       "      <td>0.203430</td>\n",
       "      <td>1.000000</td>\n",
       "    </tr>\n",
       "  </tbody>\n",
       "</table>\n",
       "</div>"
      ],
      "text/plain": [
       "                   price  bedrooms  bathrooms  sqft_living  sqft_lot  \\\n",
       "price           1.000000  0.309453   0.526229     0.701875  0.089111   \n",
       "bedrooms        0.309453  1.000000   0.515383     0.579069  0.032490   \n",
       "bathrooms       0.526229  0.515383   1.000000     0.755522  0.087779   \n",
       "sqft_living     0.701875  0.579069   0.755522     1.000000  0.172586   \n",
       "sqft_lot        0.089111  0.032490   0.087779     0.172586  1.000000   \n",
       "floors          0.256286  0.177734   0.501803     0.352868 -0.005561   \n",
       "has_waterfront  0.264898 -0.002205   0.063635     0.104737  0.021429   \n",
       "condition       0.034779  0.025893  -0.129362    -0.061677 -0.009169   \n",
       "grade           0.668020  0.357988   0.665587     0.762477  0.113656   \n",
       "is_renovated    0.118179  0.017204   0.047259     0.050623  0.005105   \n",
       "age            -0.052906 -0.155241  -0.506252    -0.316646 -0.052312   \n",
       "\n",
       "                  floors  has_waterfront  condition     grade  is_renovated  \\\n",
       "price           0.256286        0.264898   0.034779  0.668020      0.118179   \n",
       "bedrooms        0.177734       -0.002205   0.025893  0.357988      0.017204   \n",
       "bathrooms       0.501803        0.063635  -0.129362  0.665587      0.047259   \n",
       "sqft_living     0.352868        0.104737  -0.061677  0.762477      0.050623   \n",
       "sqft_lot       -0.005561        0.021429  -0.009169  0.113656      0.005105   \n",
       "floors          1.000000        0.020578  -0.266859  0.458091      0.003063   \n",
       "has_waterfront  0.020578        1.000000   0.016608  0.082905      0.074429   \n",
       "condition      -0.266859        0.016608   1.000000 -0.150508     -0.055836   \n",
       "grade           0.458091        0.082905  -0.150508  1.000000      0.015385   \n",
       "is_renovated    0.003063        0.074429  -0.055836  0.015385      1.000000   \n",
       "age            -0.488935        0.024842   0.365129 -0.446235      0.203430   \n",
       "\n",
       "                     age  \n",
       "price          -0.052906  \n",
       "bedrooms       -0.155241  \n",
       "bathrooms      -0.506252  \n",
       "sqft_living    -0.316646  \n",
       "sqft_lot       -0.052312  \n",
       "floors         -0.488935  \n",
       "has_waterfront  0.024842  \n",
       "condition       0.365129  \n",
       "grade          -0.446235  \n",
       "is_renovated    0.203430  \n",
       "age             1.000000  "
      ]
     },
     "execution_count": 301,
     "metadata": {},
     "output_type": "execute_result"
    }
   ],
   "source": [
    "df.corr() # Checked how diifferent independent variables relate to price"
   ]
  },
  {
   "cell_type": "markdown",
   "metadata": {},
   "source": [
    "- The correlation between price and bedrooms has a coefficient of 0.309453, indicating a moderate positive relationship. As the number of bedrooms increases, the price of the house tends to increase, but the relationship is not very strong.\n",
    "- The correlation between price and bathrooms has a coefficient of 0.526229, indicating a moderate to strong positive relationship. More bathrooms are associated with higher house prices.\n",
    "- The correlation between price and Sqft_living has a coefficient of 0.701875, indicating a strong positive relationship. Houses with larger living areas (square footage) tend to be more expensive.\n",
    "- The correlation between price and sqft_lot has a coefficient of 0.089111, indicating a very weak positive relationship. The size of the lot has little impact on the house price.\n",
    "- The correlation between price and floors has a coefficient of 0.256286, indicating a weak to moderate positive relationship. More floors are somewhat associated with higher house prices.\n",
    "- The correlation between price and waterfront has a coefficient of 0.264898, indicating a weak to moderate positive relationship. Houses located on the waterfront tend to be more expensive.\n",
    "- The correlation between price and condition has a coefficient of 0.034779, indicating an almost negligible positive relationship. The condition of the house has little to no impact on the price.\n",
    "- The correlation between price and grade has a coefficient of 0.668020, indicating a strong positive relationship. Higher-grade houses (quality of construction and design) tend to be more expensive.\n",
    "- The correlation between price and is_renovated has a coefficient of 0.118179, indicating a very weak positive relationship. The year the house was built has little impact on the house price.\n",
    "- The correlation between price and age has a coefficient of \t-0.052906\t, indicating a very weak negative relationship. The year the house was built has little impact on the house price."
   ]
  },
  {
   "cell_type": "markdown",
   "metadata": {},
   "source": [
    "## Check for any outliers"
   ]
  },
  {
   "cell_type": "code",
   "execution_count": null,
   "metadata": {},
   "outputs": [
    {
     "data": {
      "image/png": "[encoded data removed]",
      "text/plain": [
       "<Figure size 720x432 with 1 Axes>"
      ]
     },
     "metadata": {
      "needs_background": "light"
     },
     "output_type": "display_data"
    }
   ],
   "source": [
    "plt.figure(figsize=(10, 6))\n",
    "sns.boxplot(data=df)\n",
    "plt.title('Box plots of Selected Columns')\n",
    "plt.xlabel('Features')\n",
    "plt.ylabel('Value')\n",
    "plt.xticks(rotation=45)\n",
    "plt.show()"
   ]
  },
  {
   "cell_type": "markdown",
   "metadata": {},
   "source": [
    "from this boxplot, outliers are present in every column apart from the age, and floors column."
   ]
  },
  {
   "cell_type": "markdown",
   "metadata": {},
   "source": [
    "Select numeric columns with high variability for outlier detection"
   ]
  },
  {
   "cell_type": "code",
   "execution_count": null,
   "metadata": {},
   "outputs": [
    {
     "data": {
      "text/plain": [
       "Index(['price', 'bedrooms', 'bathrooms', 'sqft_living', 'sqft_lot', 'floors',\n",
       "       'has_waterfront', 'condition', 'grade', 'is_renovated', 'age'],\n",
       "      dtype='object')"
      ]
     },
     "execution_count": 303,
     "metadata": {},
     "output_type": "execute_result"
    }
   ],
   "source": [
    "df.columns"
   ]
  },
  {
   "cell_type": "code",
   "execution_count": null,
   "metadata": {},
   "outputs": [],
   "source": [
    "df_selected_outliers = df[['price','sqft_living', 'sqft_lot', \n",
    "                            'age']]\n",
    "\n",
    "\n",
    "# Calculate IQR for selected columns\n",
    "Q1 = df_selected_outliers.quantile(0.25)\n",
    "Q3 = df_selected_outliers.quantile(0.75)\n",
    "IQR = Q3 - Q1\n",
    "\n",
    "# Define outlier boundaries\n",
    "lower_bound = Q1 - 1.5 * IQR\n",
    "upper_bound = Q3 + 1.5 * IQR\n",
    "\n",
    "# Find outliers\n",
    "outliers = ((df_selected_outliers< lower_bound) | (df_selected_outliers > upper_bound)).any(axis=1)\n",
    "\n",
    "# Print indices of outliers\n",
    "outlier_indices = df.index[outliers]"
   ]
  },
  {
   "cell_type": "code",
   "execution_count": null,
   "metadata": {},
   "outputs": [],
   "source": [
    "# droping all rows with outliers \n",
    "df = df.drop(outlier_indices)"
   ]
  },
  {
   "cell_type": "code",
   "execution_count": null,
   "metadata": {},
   "outputs": [
    {
     "name": "stdout",
     "output_type": "stream",
     "text": [
      "<class 'pandas.core.frame.DataFrame'>\n",
      "Int64Index: 18071 entries, 0 to 21596\n",
      "Data columns (total 11 columns):\n",
      " #   Column          Non-Null Count  Dtype  \n",
      "---  ------          --------------  -----  \n",
      " 0   price           18071 non-null  float64\n",
      " 1   bedrooms        18071 non-null  int64  \n",
      " 2   bathrooms       18071 non-null  float64\n",
      " 3   sqft_living     18071 non-null  int64  \n",
      " 4   sqft_lot        18071 non-null  int64  \n",
      " 5   floors          18071 non-null  float64\n",
      " 6   has_waterfront  18071 non-null  bool   \n",
      " 7   condition       18071 non-null  int64  \n",
      " 8   grade           18071 non-null  int64  \n",
      " 9   is_renovated    18071 non-null  bool   \n",
      " 10  age             18071 non-null  int64  \n",
      "dtypes: bool(2), float64(3), int64(6)\n",
      "memory usage: 1.4 MB\n"
     ]
    }
   ],
   "source": [
    "df.info()"
   ]
  },
  {
   "cell_type": "markdown",
   "metadata": {},
   "source": [
    "### We shall test the above features practically to create the most accurate model, leveraging on the information from the correlation matrix. Priority features will be those that have a strong correlation with the price"
   ]
  },
  {
   "cell_type": "markdown",
   "metadata": {},
   "source": [
    "# ANALYSIS"
   ]
  },
  {
   "cell_type": "markdown",
   "metadata": {},
   "source": [
    "## Analysis 1: Linear Regression Model for Prediction of Housing Prices\n"
   ]
  },
  {
   "cell_type": "markdown",
   "metadata": {},
   "source": [
    "##### Investigation of the most important features in homes to create an accurate model for estimating home value.\n",
    "##### From the correlation matrix above: \n",
    "##### Top Predictors - sqft_living,grade,  bathrooms, bedrooms, has_waterfront,floors,is_renovated, sqft_lot,age,condition"
   ]
  },
  {
   "cell_type": "markdown",
   "metadata": {},
   "source": [
    "#### A.Simple Linear Regression Model\n",
    "\n",
    "- First, we shall create a model with the top predictor,sqft_living,  and progressively add other predictors while evaluating the performance of our model"
   ]
  },
  {
   "cell_type": "markdown",
   "metadata": {},
   "source": [
    "##### Data Preparation and Modeling"
   ]
  },
  {
   "cell_type": "code",
   "execution_count": null,
   "metadata": {},
   "outputs": [
    {
     "data": {
      "text/html": [
       "<div>\n",
       "<style scoped>\n",
       "    .dataframe tbody tr th:only-of-type {\n",
       "        vertical-align: middle;\n",
       "    }\n",
       "\n",
       "    .dataframe tbody tr th {\n",
       "        vertical-align: top;\n",
       "    }\n",
       "\n",
       "    .dataframe thead th {\n",
       "        text-align: right;\n",
       "    }\n",
       "</style>\n",
       "<table border=\"1\" class=\"dataframe\">\n",
       "  <thead>\n",
       "    <tr style=\"text-align: right;\">\n",
       "      <th></th>\n",
       "      <th>Actual Price</th>\n",
       "      <th>Predicted Price</th>\n",
       "    </tr>\n",
       "  </thead>\n",
       "  <tbody>\n",
       "    <tr>\n",
       "      <th>15835</th>\n",
       "      <td>322000.0</td>\n",
       "      <td>473527.857419</td>\n",
       "    </tr>\n",
       "    <tr>\n",
       "      <th>3870</th>\n",
       "      <td>215000.0</td>\n",
       "      <td>307332.268828</td>\n",
       "    </tr>\n",
       "    <tr>\n",
       "      <th>994</th>\n",
       "      <td>291000.0</td>\n",
       "      <td>458264.997242</td>\n",
       "    </tr>\n",
       "    <tr>\n",
       "      <th>232</th>\n",
       "      <td>315000.0</td>\n",
       "      <td>641419.319363</td>\n",
       "    </tr>\n",
       "    <tr>\n",
       "      <th>18003</th>\n",
       "      <td>477500.0</td>\n",
       "      <td>458264.997242</td>\n",
       "    </tr>\n",
       "  </tbody>\n",
       "</table>\n",
       "</div>"
      ],
      "text/plain": [
       "       Actual Price  Predicted Price\n",
       "15835      322000.0    473527.857419\n",
       "3870       215000.0    307332.268828\n",
       "994        291000.0    458264.997242\n",
       "232        315000.0    641419.319363\n",
       "18003      477500.0    458264.997242"
      ]
     },
     "execution_count": 307,
     "metadata": {},
     "output_type": "execute_result"
    }
   ],
   "source": [
    "#Data Preparations\n",
    "\n",
    "x_model1 = df['sqft_living']\n",
    "y_model1= df['price']\n",
    "\n",
    "#Test train split\n",
    "x_train,x_test,y_train,y_test = train_test_split(x_model1,y_model1,test_size=0.2,random_state=42)\n",
    "\n",
    "# Reshape the arrays to 2D\n",
    "x_train= x_train.values.reshape(-1, 1)\n",
    "x_test = x_test.values.reshape(-1, 1)\n",
    "\n",
    "#Modeling\n",
    "model1 = LinearRegression()\n",
    "model1.fit(x_train,y_train)\n",
    "\n",
    "#prediction\n",
    "y_pred = model1.predict(x_test)\n",
    "\n",
    "df_model1= pd.DataFrame({\"Actual Price\":y_test,\"Predicted Price\":y_pred})\n",
    "df_model1.head()"
   ]
  },
  {
   "cell_type": "markdown",
   "metadata": {},
   "source": [
    "##### Validation"
   ]
  },
  {
   "cell_type": "code",
   "execution_count": null,
   "metadata": {},
   "outputs": [
    {
     "name": "stdout",
     "output_type": "stream",
     "text": [
      "Mean Squared Error of Model:  26997058887.541637\n",
      "Mean Absolute Error of Model: 132831.78109333402\n",
      "R Squared Value of Model: 0.35426536920193596\n"
     ]
    }
   ],
   "source": [
    "mse = mean_squared_error(y_test,y_pred)\n",
    "mae = mean_absolute_error(y_test,y_pred)\n",
    "r2  = r2_score(y_test,y_pred)\n",
    "\n",
    "print(\"Mean Squared Error of Model: \",mse)\n",
    "print(\"Mean Absolute Error of Model:\",mae)\n",
    "print(\"R Squared Value of Model:\" ,r2)"
   ]
  },
  {
   "cell_type": "code",
   "execution_count": null,
   "metadata": {},
   "outputs": [
    {
     "data": {
      "text/plain": [
       "(142832.5535907722, array([169.5873353]))"
      ]
     },
     "execution_count": 309,
     "metadata": {},
     "output_type": "execute_result"
    }
   ],
   "source": [
    "#getting coefficients and intercepts\n",
    "coefficients = model1.coef_\n",
    "intercept = model1.intercept_\n",
    "intercept, coefficients"
   ]
  },
  {
   "cell_type": "markdown",
   "metadata": {},
   "source": [
    "##### Simple Linear Regression Formula\n",
    "\n",
    "The formula for predicting the price (y) can be expressed as:\n",
    "y = β0 + β1 * sqft_living\n",
    "Where:\n",
    "\n",
    "- β0 is the intercept\n",
    "- β1 is the coefficient for sqft_living\n",
    "\n",
    "Placing the values of the intercept and coefficient, the formula can be expressed as:\n",
    "\n",
    "\n",
    "y = **142832.5535907722** + **169.5873353** * sqft_living"
   ]
  },
  {
   "cell_type": "markdown",
   "metadata": {},
   "source": [
    "#### Explanation:\n",
    "- **Intercept (142832.55)**: This is the estimated price when the square footage of the living space is zero. It serves as the baseline price of a house without considering its size.\n",
    "- **Coefficient (169.59)**: This represents the increase in price for each additional square foot of living space. For every extra square foot, the price is predicted to increase by approximately 169.59 dollars.\n",
    "\n",
    "#### Performance Interpretation:\n",
    "- The **MSE** value of 26,997,058,887.54 indicates that there is a significant average squared error between the actual and predicted prices. This suggests that there is room for improvement in the model.\n",
    "- The **MAE** value of 132,831.78 tells us that, on average, our model's predictions are off by about 132,831.78 dollars.\n",
    "- The **R² value** of 0.35 means that 35% of the variability in house prices is accounted for by the model based on square footage alone. This indicates a moderate level of explanatory power, but it also suggests that other factors not included in this model are influencing house prices.\n",
    "\n",
    "In summary, while this simple linear regression model provides a basic understanding of how house prices vary with the size of the living area, its performance metrics indicate that it may not be sufficiently accurate for precise predictions. Including additional features could potentially improve the model's accuracy."
   ]
  },
  {
   "cell_type": "markdown",
   "metadata": {},
   "source": [
    "#### B.Multiple Linear Regression Model"
   ]
  },
  {
   "cell_type": "markdown",
   "metadata": {},
   "source": [
    "- To improve the performance of our model, we shall add other key features in our simple model and evaluate its performance.\n",
    "- We shall then create an additional model with the auxiliary features which do not have a very high correlation with the price and evaluate to verifyif our model improves\n",
    "- The most accurate model across the metrics of errors and Rsquared will be chosen"
   ]
  },
  {
   "cell_type": "markdown",
   "metadata": {},
   "source": [
    "Using 2 different sets of predictor variables and come up whith 2 different models."
   ]
  },
  {
   "cell_type": "code",
   "execution_count": null,
   "metadata": {},
   "outputs": [
    {
     "data": {
      "text/plain": [
       "Index(['price', 'bedrooms', 'bathrooms', 'sqft_living', 'sqft_lot', 'floors',\n",
       "       'has_waterfront', 'condition', 'grade', 'is_renovated', 'age'],\n",
       "      dtype='object')"
      ]
     },
     "execution_count": 310,
     "metadata": {},
     "output_type": "execute_result"
    }
   ],
   "source": [
    "#checking columns\n",
    "df.columns"
   ]
  },
  {
   "cell_type": "markdown",
   "metadata": {},
   "source": [
    "sqft_living,grade,  bathrooms, bedrooms, has_waterfront,floors,is_renovated, sqft_lot,age,condition"
   ]
  },
  {
   "cell_type": "code",
   "execution_count": null,
   "metadata": {},
   "outputs": [],
   "source": [
    "\n",
    "x_model2 = df[['sqft_living', 'grade', 'bathrooms', 'bedrooms', 'floors']]\n",
    "\n",
    "\n",
    "x_model3 = df[[ 'sqft_living', 'grade', 'bathrooms','bedrooms', 'floors',\n",
    "       'has_waterfront', 'is_renovated', 'sqft_lot', 'condition', 'age']]\n",
    "y = df['price']\n"
   ]
  },
  {
   "cell_type": "markdown",
   "metadata": {},
   "source": [
    "##### I. Model 2( Multiple linear regression model with top 5 predictors)"
   ]
  },
  {
   "cell_type": "markdown",
   "metadata": {},
   "source": [
    "##### Data Preparation and Modeling"
   ]
  },
  {
   "cell_type": "code",
   "execution_count": null,
   "metadata": {},
   "outputs": [
    {
     "data": {
      "text/html": [
       "<div>\n",
       "<style scoped>\n",
       "    .dataframe tbody tr th:only-of-type {\n",
       "        vertical-align: middle;\n",
       "    }\n",
       "\n",
       "    .dataframe tbody tr th {\n",
       "        vertical-align: top;\n",
       "    }\n",
       "\n",
       "    .dataframe thead th {\n",
       "        text-align: right;\n",
       "    }\n",
       "</style>\n",
       "<table border=\"1\" class=\"dataframe\">\n",
       "  <thead>\n",
       "    <tr style=\"text-align: right;\">\n",
       "      <th></th>\n",
       "      <th>Actual Price</th>\n",
       "      <th>Predicted Price</th>\n",
       "    </tr>\n",
       "  </thead>\n",
       "  <tbody>\n",
       "    <tr>\n",
       "      <th>15835</th>\n",
       "      <td>322000.0</td>\n",
       "      <td>412338.591544</td>\n",
       "    </tr>\n",
       "    <tr>\n",
       "      <th>3870</th>\n",
       "      <td>215000.0</td>\n",
       "      <td>208020.178719</td>\n",
       "    </tr>\n",
       "    <tr>\n",
       "      <th>994</th>\n",
       "      <td>291000.0</td>\n",
       "      <td>401645.147856</td>\n",
       "    </tr>\n",
       "    <tr>\n",
       "      <th>232</th>\n",
       "      <td>315000.0</td>\n",
       "      <td>587149.502208</td>\n",
       "    </tr>\n",
       "    <tr>\n",
       "      <th>18003</th>\n",
       "      <td>477500.0</td>\n",
       "      <td>422363.623102</td>\n",
       "    </tr>\n",
       "  </tbody>\n",
       "</table>\n",
       "</div>"
      ],
      "text/plain": [
       "       Actual Price  Predicted Price\n",
       "15835      322000.0    412338.591544\n",
       "3870       215000.0    208020.178719\n",
       "994        291000.0    401645.147856\n",
       "232        315000.0    587149.502208\n",
       "18003      477500.0    422363.623102"
      ]
     },
     "execution_count": 312,
     "metadata": {},
     "output_type": "execute_result"
    }
   ],
   "source": [
    "\n",
    "#Test train split\n",
    "x_train,x_test,y_train,y_test = train_test_split(x_model2,y,test_size=0.2,random_state=42)\n",
    "\n",
    "\n",
    "#Modeling\n",
    "model2 = LinearRegression()\n",
    "model2.fit(x_train,y_train)\n",
    "\n",
    "#prediction\n",
    "y_pred = model2.predict(x_test)\n",
    "\n",
    "df_model2= pd.DataFrame({\"Actual Price\":y_test,\"Predicted Price\":y_pred})\n",
    "df_model2.head()"
   ]
  },
  {
   "cell_type": "markdown",
   "metadata": {},
   "source": [
    "##### Validation"
   ]
  },
  {
   "cell_type": "code",
   "execution_count": null,
   "metadata": {},
   "outputs": [
    {
     "name": "stdout",
     "output_type": "stream",
     "text": [
      "Mean Squared Error of Model:  23757545024.29692\n",
      "Mean Absolute Error of Model: 122306.04934670829\n",
      "R Squared Value of Model: 0.43175033884849523\n"
     ]
    }
   ],
   "source": [
    "mse = mean_squared_error(y_test,y_pred)\n",
    "mae = mean_absolute_error(y_test,y_pred)\n",
    "r2  = r2_score(y_test,y_pred)\n",
    "\n",
    "print(\"Mean Squared Error of Model: \",mse)\n",
    "print(\"Mean Absolute Error of Model:\",mae)\n",
    "print(\"R Squared Value of Model:\" ,r2)"
   ]
  },
  {
   "cell_type": "code",
   "execution_count": null,
   "metadata": {},
   "outputs": [
    {
     "data": {
      "text/plain": [
       "(-271416.9668649424,\n",
       " array([   118.81604097,  80470.38579525, -18220.19031844, -12892.82031154,\n",
       "         -7053.33250738]))"
      ]
     },
     "execution_count": 314,
     "metadata": {},
     "output_type": "execute_result"
    }
   ],
   "source": [
    "#getting coefficients and intercepts\n",
    "coefficients = model2.coef_\n",
    "intercept = model2.intercept_\n",
    "intercept, coefficients"
   ]
  },
  {
   "cell_type": "markdown",
   "metadata": {},
   "source": [
    "##### Multiple Linear Regression Formula\n",
    "The formula for predicting the price (y) can be expressed as:\n",
    "\n",
    "**y** = **β0** + **β1** * sqft_living + **β2** * grade + **β3** * bathrooms + **β4** * bedrooms + **β5** * floors\n",
    "\n",
    "Where:\n",
    "\n",
    "- **β0** is the intercept\n",
    "- **β1, β2, ..., β5** are the coefficients for each feature\n",
    "\n",
    "Placing the values of the intercept and coefficients, the formula can be expressed as:\n",
    "\n",
    "**y** = **-271416.9668649424** + **118.81604097** * sqft_living + **80470.38579525** * grade + **-18220.19031844** * bathrooms + **-12892.82031154** * bedrooms + **-7053.33250738** * floors\n",
    "\n",
    "Where:\n",
    "\n",
    "- **-271416.9668649424** is the intercept\n",
    "- **118.81604097** is the coefficient for sqft_living\n",
    "- **80470.38579525** is the coefficient for grade\n",
    "- **-18220.19031844** is the coefficient for bathrooms\n",
    "- **-12892.82031154** is the coefficient for bedrooms\n",
    "- **-7053.33250738** is the coefficient for floors"
   ]
  },
  {
   "cell_type": "markdown",
   "metadata": {},
   "source": [
    "#### Explanation:\n",
    "- **Intercept (-271416.97)**: This is the estimated price when all the predictors (sqft_living, grade, bathrooms, bedrooms, floors) are zero. It serves as the baseline price of a house without considering these features.\n",
    "- **Coefficients**:\n",
    "  - **118.82 for sqft_living**: For each additional square foot of living space, the price is predicted to increase by approximately 118.82 dollars.\n",
    "  - **80470.39 for grade**: For each unit increase in grade, the price is predicted to increase by approximately 80470.39 dollars.\n",
    "  - **-18220.19 for bathrooms**: For each additional bathroom, the price is predicted to decrease by approximately 18220.19 dollars.\n",
    "  - **-12892.82 for bedrooms**: For each additional bedroom, the price is predicted to decrease by approximately 12892.82 dollars.\n",
    "  - **-7053.33 for floors**: For each additional floor, the price is predicted to decrease by approximately 7053.33 dollars.\n",
    "\n",
    "#### Performance Interpretation:\n",
    "- The **MSE** value of 23,757,545,024.30 indicates a significant average squared error between the actual and predicted prices, though it is slightly lower than the simple linear regression model, suggesting a better fit.\n",
    "- The **MAE** value of 122,306.05 tells us that, on average, our model's predictions are off by about 122,306.05 dollars.\n",
    "- The **R² value** of 0.43 means that 43% of the variability in house prices is accounted for by the model based on the features included. This indicates an improvement over the simple linear regression model and suggests that including multiple features provides a better explanation of house prices.\n",
    "\n",
    "In summary, this multiple linear regression model provides a more comprehensive understanding of how various features influence house prices compared to the simple linear regression model. However, the performance metrics indicate that there is still room for improvement, and incorporating additional relevant features might further enhance the model's accuracy."
   ]
  },
  {
   "cell_type": "markdown",
   "metadata": {},
   "source": [
    "##### II. Model 3( Multiple linear regression model with all predictors)"
   ]
  },
  {
   "cell_type": "markdown",
   "metadata": {},
   "source": [
    "##### Data Preparation and Modeling"
   ]
  },
  {
   "cell_type": "code",
   "execution_count": null,
   "metadata": {},
   "outputs": [
    {
     "data": {
      "text/html": [
       "<div>\n",
       "<style scoped>\n",
       "    .dataframe tbody tr th:only-of-type {\n",
       "        vertical-align: middle;\n",
       "    }\n",
       "\n",
       "    .dataframe tbody tr th {\n",
       "        vertical-align: top;\n",
       "    }\n",
       "\n",
       "    .dataframe thead th {\n",
       "        text-align: right;\n",
       "    }\n",
       "</style>\n",
       "<table border=\"1\" class=\"dataframe\">\n",
       "  <thead>\n",
       "    <tr style=\"text-align: right;\">\n",
       "      <th></th>\n",
       "      <th>Actual Price</th>\n",
       "      <th>Predicted Price</th>\n",
       "    </tr>\n",
       "  </thead>\n",
       "  <tbody>\n",
       "    <tr>\n",
       "      <th>15835</th>\n",
       "      <td>322000.0</td>\n",
       "      <td>361299.482749</td>\n",
       "    </tr>\n",
       "    <tr>\n",
       "      <th>3870</th>\n",
       "      <td>215000.0</td>\n",
       "      <td>249265.891748</td>\n",
       "    </tr>\n",
       "    <tr>\n",
       "      <th>994</th>\n",
       "      <td>291000.0</td>\n",
       "      <td>384425.642528</td>\n",
       "    </tr>\n",
       "    <tr>\n",
       "      <th>232</th>\n",
       "      <td>315000.0</td>\n",
       "      <td>573470.276826</td>\n",
       "    </tr>\n",
       "    <tr>\n",
       "      <th>18003</th>\n",
       "      <td>477500.0</td>\n",
       "      <td>407327.348712</td>\n",
       "    </tr>\n",
       "  </tbody>\n",
       "</table>\n",
       "</div>"
      ],
      "text/plain": [
       "       Actual Price  Predicted Price\n",
       "15835      322000.0    361299.482749\n",
       "3870       215000.0    249265.891748\n",
       "994        291000.0    384425.642528\n",
       "232        315000.0    573470.276826\n",
       "18003      477500.0    407327.348712"
      ]
     },
     "execution_count": 315,
     "metadata": {},
     "output_type": "execute_result"
    }
   ],
   "source": [
    "\n",
    "#Test train split\n",
    "x_train,x_test,y_train,y_test = train_test_split(x_model3,y,test_size=0.2,random_state=42)\n",
    "\n",
    "\n",
    "#Modeling\n",
    "model3 = LinearRegression()\n",
    "model3.fit(x_train,y_train)\n",
    "\n",
    "#prediction\n",
    "y_pred = model3.predict(x_test)\n",
    "\n",
    "df_model3= pd.DataFrame({\"Actual Price\":y_test,\"Predicted Price\":y_pred})\n",
    "df_model3.head()"
   ]
  },
  {
   "cell_type": "code",
   "execution_count": null,
   "metadata": {},
   "outputs": [
    {
     "name": "stdout",
     "output_type": "stream",
     "text": [
      "Mean Squared Error of Model:  18203549025.413246\n",
      "Mean Absolute Error of Model: 105665.88359227464\n",
      "R Squared Value of Model: 0.5645947190727462\n"
     ]
    }
   ],
   "source": [
    "mse = mean_squared_error(y_test,y_pred)\n",
    "mae = mean_absolute_error(y_test,y_pred)\n",
    "r2  = r2_score(y_test,y_pred)\n",
    "\n",
    "print(\"Mean Squared Error of Model: \",mse)\n",
    "print(\"Mean Absolute Error of Model:\",mae)\n",
    "print(\"R Squared Value of Model:\" ,r2)"
   ]
  },
  {
   "cell_type": "code",
   "execution_count": null,
   "metadata": {},
   "outputs": [
    {
     "data": {
      "text/plain": [
       "(-722928.656182566,\n",
       " array([ 1.10320360e+02,  1.05666687e+05,  2.50112847e+04, -1.56189331e+04,\n",
       "         1.63381883e+04,  2.78527067e+05,  7.34724504e+03, -7.35820112e+00,\n",
       "         2.18791947e+04,  2.69050331e+03]))"
      ]
     },
     "execution_count": 317,
     "metadata": {},
     "output_type": "execute_result"
    }
   ],
   "source": [
    "#getting coefficients and intercepts\n",
    "coefficients = model3.coef_\n",
    "intercept = model3.intercept_\n",
    "intercept, coefficients"
   ]
  },
  {
   "cell_type": "markdown",
   "metadata": {},
   "source": [
    "##### Multiple Linear Regression Formula\n",
    "\n",
    "The formula for predicting the price (y) can be expressed as:\n",
    "\n",
    "**y** = **β0** + **β1** * sqft_living + **β2** * grade + **β3** * bathrooms + **β4** * bedrooms + **β5** * floors + **β6** * has_waterfront + **β7** * is_renovated + **β8** * sqft_lot + **β9** * condition + **β10** * age \n",
    "\n",
    "Where:\n",
    "\n",
    "- **β0** is the intercept\n",
    "- **β1, β2, ..., β10** are the coefficients for each feature\n",
    "\n",
    "Placing the values of the intercept and coefficients, the formula can be expressed as:\n",
    "\n",
    "**y** = **-722928.656182566** + **110.32036** * sqft_living + **105666.687** * grade + **25011.2847** * bathrooms + **-15618.9331** * bedrooms + **16338.1883** * floors + **278527.067** * has_waterfront + **7347.24504** * is_renovated + **-7.35820112** * sqft_lot + **21879.1947** * condition + **2690.50331** * age\n",
    "\n",
    "Where:\n",
    "\n",
    "- **-722928.656182566** is the intercept\n",
    "- **110.32036** is the coefficient for sqft_living\n",
    "- **105666.687** is the coefficient for grade\n",
    "- **25011.2847** is the coefficient for bathrooms\n",
    "- **-15618.9331** is the coefficient for bedrooms\n",
    "- **16338.1883** is the coefficient for floors\n",
    "- **278527.067** is the coefficient for has_waterfront\n",
    "- **7347.24504** is the coefficient for is_renovated\n",
    "- **-7.35820112** is the coefficient for sqft_lot\n",
    "- **21879.1947** is the coefficient for condition\n",
    "- **2690.50331** is the coefficient for age\n"
   ]
  },
  {
   "cell_type": "markdown",
   "metadata": {},
   "source": [
    "#### Explanation:\n",
    "- **Intercept (-722928.66)**: This is the estimated price when all the predictors are zero. It provides a baseline price of a house without considering these features.\n",
    "- **Coefficients**:\n",
    "  - **110.32 for sqft_living**: For each additional square foot of living space, the price is predicted to increase by approximately 110.32 dollars.\n",
    "  - **105666.69 for grade**: For each unit increase in grade, the price is predicted to increase by approximately 105666.69 dollars.\n",
    "  - **25011.28 for bathrooms**: For each additional bathroom, the price is predicted to increase by approximately 25011.28 dollars.\n",
    "  - **-15618.93 for bedrooms**: For each additional bedroom, the price is predicted to decrease by approximately 15618.93 dollars.\n",
    "  - **16338.19 for floors**: For each additional floor, the price is predicted to increase by approximately 16338.19 dollars.\n",
    "  - **278527.07 for has_waterfront**: Properties with waterfronts are predicted to be valued higher by approximately 278527.07 dollars.\n",
    "  - **7347.25 for is_renovated**: Renovated properties are predicted to be valued higher by approximately 7347.25 dollars.\n",
    "  - **-7.36 for sqft_lot**: Each additional square foot of lot size is predicted to decrease the price by approximately 7.36 dollars.\n",
    "  - **21879.19 for condition**: For each unit increase in condition rating, the price is predicted to increase by approximately 21879.19 dollars.\n",
    "  - **2690.50 for age**: For each year increase in the age of the property, the price is predicted to increase by approximately 2690.50 dollars.\n",
    "\n",
    "#### Advantages of This Model:\n",
    "- **Higher R² Value**: With an R² value of 0.56, this model explains a significant portion of the variance in house prices, making it more reliable than the previous models.\n",
    "- **Lower Errors**: Both the MSE and MAE are lower in this model compared to previous ones, indicating more accurate and reliable predictions.\n",
    "- **Comprehensive Features**: By including multiple relevant features, this model provides a more detailed and nuanced understanding of how different factors affect house prices, leading to better-informed decisions for stakeholders.\n",
    "\n",
    "In summary, this final multiple linear regression model offers improved predictive accuracy and reliability by incorporating a broader range of features. This makes it a valuable tool for predicting house prices and making informed real estate decisions."
   ]
  },
  {
   "cell_type": "markdown",
   "metadata": {},
   "source": [
    "## Analysis 2: Relationship between renovations and property value\n",
    "In this analysis, we aim to determine whether renovations affect home prices and, if so, to what extent."
   ]
  },
  {
   "cell_type": "markdown",
   "metadata": {},
   "source": [
    "First and foremost, inspecting the scatter plot of the 2 variables"
   ]
  },
  {
   "cell_type": "code",
   "execution_count": null,
   "metadata": {},
   "outputs": [
    {
     "data": {
      "text/plain": [
       "<matplotlib.collections.PathCollection at 0x769549e5a250>"
      ]
     },
     "execution_count": 318,
     "metadata": {},
     "output_type": "execute_result"
    },
    {
     "data": {
      "image/png": "[encoded data removed]",
      "text/plain": [
       "<Figure size 432x288 with 1 Axes>"
      ]
     },
     "metadata": {
      "needs_background": "light"
     },
     "output_type": "display_data"
    }
   ],
   "source": [
    "plt.scatter(df['is_renovated'], df['price'], color='blue', label='Data Points', alpha =0.1)"
   ]
  },
  {
   "cell_type": "markdown",
   "metadata": {},
   "source": [
    "This does not show the relationship clearly. Comparing the measures of central tendency"
   ]
  },
  {
   "cell_type": "code",
   "execution_count": null,
   "metadata": {},
   "outputs": [],
   "source": [
    "# split into 2 dataframes, one with renovated houses, the other without\n",
    "df_with_renovation = df[df['is_renovated']== True]\n",
    "df_without_renovation =  df[df['is_renovated']== False]"
   ]
  },
  {
   "cell_type": "code",
   "execution_count": null,
   "metadata": {},
   "outputs": [
    {
     "name": "stdout",
     "output_type": "stream",
     "text": [
      "Houses with Renovations:\n",
      "Mean Price = 570982.5055762082,\n",
      "Mode Price = 0    550000.0\n",
      "dtype: float64\n",
      "\n",
      "Houses without Renovations:\n",
      "Mean Price = 462107.1770946216,\n",
      "Mode Price = 0    350000.0\n",
      "dtype: float64\n",
      "\n",
      "Differences:\n",
      "\n",
      "Mean Price = 108875.32848158665\n",
      "Mode Price = 0    200000.0\n",
      "dtype: float64\n",
      "      \n"
     ]
    }
   ],
   "source": [
    "print(f\"\"\"Houses with Renovations:\\nMean Price = {df_with_renovation['price'].mean()},\n",
    "Mode Price = {df_with_renovation['price'].mode()}\n",
    "\"\"\")\n",
    "print(f\"\"\"Houses without Renovations:\\nMean Price = {df_without_renovation['price'].mean()},\n",
    "Mode Price = {df_without_renovation['price'].mode()}\n",
    "\"\"\")\n",
    "\n",
    "\n",
    "print(f\"\"\"Differences:\\n\n",
    "Mean Price = {df_with_renovation['price'].mean()-df_without_renovation['price'].mean()}\n",
    "Mode Price = {df_with_renovation['price'].mode()- df_without_renovation['price'].mode()}\n",
    "      \"\"\")\n"
   ]
  },
  {
   "cell_type": "markdown",
   "metadata": {},
   "source": [
    "As can be seen above, Renovated houses have a larger mean by approximately **110,000** dollars, and a larger mode by **200,000** dollars. This shows that renovated houses on average sell for higher prices. This comparison, however, does not keep in account the other differences between the houses. "
   ]
  },
  {
   "cell_type": "markdown",
   "metadata": {},
   "source": [
    "### Statistical Comparison\n",
    "\n",
    "**Houses with Renovations:**\n",
    "- Mean Price: \\$570,982.51\n",
    "- Mode Price: \\$550,000.00\n",
    "\n",
    "**Houses without Renovations:**\n",
    "- Mean Price: \\$462,107.18\n",
    "- Mode Price: \\$350,000.00\n",
    "\n",
    "**Differences:**\n",
    "- Mean Price Difference: \\$108,875.33\n",
    "- Mode Price Difference: \\$200,000.00\n",
    "\n",
    "As shown above, houses that have undergone renovations have a higher mean price by approximately \\$110,000 and a higher mode price by \\$200,000 compared to houses without renovations. This indicates that, on average, renovated houses sell for higher prices. However, this comparison does not account for other differences between the houses.\n",
    "\n",
    "### Predictive Model Analysis\n",
    "\n",
    "To further understand the impact of renovations on home prices, we use our predictive model:\n",
    "\n",
    "**y** = **-722928.656182566** + **110.32036** * sqft_living + **105666.687** * grade + **25011.2847** * bathrooms + **-15618.9331** * bedrooms + **16338.1883** * floors + **278527.067** * has_waterfront + **7347.24504** * is_renovated + **-7.35820112** * sqft_lot + **21879.1947** * condition + **2690.50331** * age\n",
    "\n",
    "Here, the coefficient for `is_renovated` is 7,347.25, indicating that renovations are predicted to increase the value of a home by approximately \\$7,500.\n",
    "\n",
    "### Conclusion\n",
    "\n",
    "Based on our analysis and predictive model, we can conclude that renovations positively impact the valuation of a home. Renovated properties not only have higher mean and mode prices but are also predicted to be valued higher by approximately \\$7,500 when other factors are held constant.\n"
   ]
  },
  {
   "cell_type": "markdown",
   "metadata": {},
   "source": [
    "## Analysis 3: Tailored Recommendations\n",
    "\n",
    "Based on the findings from our predictive model and statistical analysis, we can offer the following tailored recommendations to homeowners:\n",
    "\n",
    "### Recommendations for Homeowners Willing to Sell\n",
    "\n",
    "Homeowners planning to sell their houses should consider undertaking renovations, particularly if the cost of these renovations does not exceed **$7,500**. Our analysis indicates that renovations can increase the value of a home by approximately **$7,500**. Therefore, if the renovation costs are kept within this limit, homeowners are likely to see a positive return on investment.\n",
    "\n",
    "### Recommendations for Homeowners Looking to Enhance Property Value\n",
    "\n",
    "For homeowners not immediately looking to sell but aiming to enhance their property value for the future, strategic renovations can be beneficial. The key features to focus on, based on our model, include:\n",
    "\n",
    "- **Square Footage (sqft_living):** Increasing the living area can significantly impact the home value.\n",
    "- **Grade:** Improving the overall quality and finish of the house.\n",
    "- **Bathrooms:** Adding or upgrading bathrooms can add substantial value.\n",
    "- **Condition:** Ensuring the house is well-maintained and in good condition.\n",
    "\n",
    "### General Advice\n",
    "\n",
    "- **Cost-Benefit Analysis:** Homeowners should conduct a cost-benefit analysis before undertaking renovations. The predicted increase in home value should justify the renovation costs.\n",
    "- **Market Conditions:** Homeowners should also consider the current market conditions and trends in their specific area. Consulting with real estate professionals can provide additional insights.\n",
    "\n",
    "These tailored recommendations aim to help homeowners make informed decisions that maximize their property value and ensure a positive return on their renovation investments.\n"
   ]
  },
  {
   "cell_type": "markdown",
   "metadata": {},
   "source": [
    "## Conclusion\n",
    "\n",
    "The objectives of this project were successfully met:\n",
    "\n",
    "1. **Accurate Prediction Model:** We developed a multiple linear regression model that accurately predicts the value of a house based on its features. The model incorporates key predictors such as square footage, grade, number of bathrooms, number of bedrooms, number of floors, presence of waterfront, renovation status, lot size, condition, and age of the house, providing a comprehensive tool for home valuation.\n",
    "\n",
    "2. **Quantified Renovation Impact:** We explored and quantified the relationship between renovations and property value. Our analysis shows that renovated houses have higher mean and mode prices compared to non-renovated houses. Additionally, our predictive model indicates that renovations contribute to an increase in home value by approximately \\$7,500, highlighting the financial benefits of investing in renovations.\n",
    "\n",
    "3. **Tailored Recommendations:** Based on our findings, we can offer tailored recommendations to homeowners. Homeowners can be provided with accurate property valuations and advised on effective renovations to enhance their property value. This ensures that renovation decisions are informed and strategic, leading to better financial outcomes.\n",
    "\n",
    "Overall, this project has provided valuable insights into home valuation and the impact of renovations. By leveraging data on homes in King County, we have developed a reliable predictive model and quantified the benefits of renovations, supporting homeowners and stakeholders in making informed decisions in the real estate market. This model can serve as a useful tool for real estate agencies, homeowners, and urban developers, guiding strategic investments and enhancing property values.\n"
   ]
  },
  {
   "cell_type": "markdown",
   "metadata": {},
   "source": []
  }
 ],
 "metadata": {
  "kernelspec": {
   "display_name": "learn-env",
   "language": "python",
   "name": "python3"
  },
  "language_info": {
   "codemirror_mode": {
    "name": "ipython",
    "version": 3
   },
   "file_extension": ".py",
   "mimetype": "text/x-python",
   "name": "python",
   "nbconvert_exporter": "python",
   "pygments_lexer": "ipython3",
   "version": "3.8.5"
  }
 },
 "nbformat": 4,
 "nbformat_minor": 2
}
